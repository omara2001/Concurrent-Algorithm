{
 "cells": [
  {
   "cell_type": "markdown",
   "metadata": {},
   "source": [
    "#                                            \n",
    "       Finding a value X in an N-mesh,Finding the minimum value in an N-mesh and Calculating the prefix sums in an N-mesh"
   ]
  },
  {
   "cell_type": "markdown",
   "metadata": {},
   "source": [
    "## Q1) Finding a value X in an N-mesh:"
   ]
  },
  {
   "cell_type": "markdown",
   "metadata": {},
   "source": [
    "### Algorithm :"
   ]
  },
  {
   "cell_type": "markdown",
   "metadata": {},
   "source": [
    "1. Each processor P(i, j) checks if X is equal to its own value. If it is, it sends a message to P(0, 0) indicating that X has been found.\n",
    "\n",
    "2. If no processor has found X, each processor P(i, j) sends a message to its neighbors (P(i-1, j), P(i+1, j), P(i, j-1), and P(i, j+1)) asking if they have X.\n",
    "\n",
    "3. If no processor has found X, each processor P(i, j) sends a message to its neighbors' neighbors (P(i-2, j), P(i+2, j), P(i, j-2), and P(i, j+2)) asking if they have X.\n",
    "\n",
    "4. This process continues until either a processor finds X or all processors have been checked."
   ]
  },
  {
   "cell_type": "code",
   "execution_count": 1,
   "metadata": {},
   "outputs": [
    {
     "name": "stdout",
     "output_type": "stream",
     "text": [
      "True\n",
      "False\n"
     ]
    }
   ],
   "source": [
    "from typing import List\n",
    "\n",
    "def search_mesh(mesh: List[List[int]], x: int) -> bool:\n",
    "    # check if x is in the current processor\n",
    "    if mesh[0][0] == x:\n",
    "        return True\n",
    "\n",
    "    # send message to neighbors and neighbors' neighbors\n",
    "    for i in range(1, len(mesh)):\n",
    "        for j in range(1, len(mesh[0])):\n",
    "            if mesh[i][j] == x:\n",
    "                return True\n",
    "\n",
    "    return False\n",
    "\n",
    "# driver code\n",
    "mesh = [[42,53,16,8], [41,9,11,67], [29,13,21,5],[10,22,49,3]]\n",
    "print(search_mesh(mesh, 49)) # True\n",
    "print(search_mesh(mesh, 2)) # False"
   ]
  },
  {
   "cell_type": "markdown",
   "metadata": {},
   "source": [
    "The Time complexity of this algorithm is O(N^2), since each processor sends messages to its neighbors and neighbors' neighbors, and there are N^2 processors in the N-mesh. This is optimal, as there is no way to search the mesh faster than O(N^2)."
   ]
  },
  {
   "cell_type": "markdown",
   "metadata": {},
   "source": [
    "To calculate the efficiency and speedup of this algorithm, we would need to know more about the specific hardware and architecture of the N-mesh, as well as the time it takes for each processor to send and receive messages."
   ]
  },
  {
   "cell_type": "markdown",
   "metadata": {},
   "source": [
    "##  "
   ]
  },
  {
   "cell_type": "markdown",
   "metadata": {},
   "source": [
    "## Q2) Finding the minimum value in an N-mesh:"
   ]
  },
  {
   "cell_type": "markdown",
   "metadata": {},
   "source": [
    "### Algorithm :"
   ]
  },
  {
   "cell_type": "markdown",
   "metadata": {},
   "source": [
    "1. Each processor P(i, j) sends its value to P(0, 0).\n",
    "2. P(0, 0) compares the received values and keeps track of the minimum value.\n",
    "3. P(0, 0) sends the minimum value back to all processors."
   ]
  },
  {
   "cell_type": "code",
   "execution_count": 2,
   "metadata": {},
   "outputs": [
    {
     "name": "stdout",
     "output_type": "stream",
     "text": [
      "3\n"
     ]
    }
   ],
   "source": [
    "from typing import List\n",
    "\n",
    "def find_min(mesh: List[List[int]]) -> int:\n",
    "    # send values to P(0, 0)\n",
    "    min_value = mesh[0][0]\n",
    "    for i in range(len(mesh)):\n",
    "        for j in range(len(mesh[0])):\n",
    "            if mesh[i][j] < min_value:\n",
    "                min_value = mesh[i][j]\n",
    "\n",
    "    # send min value back to all processors\n",
    "    return min_value\n",
    "\n",
    "# driver code\n",
    "mesh = [[42,53,16,8], [41,9,11,67], [29,13,21,5],[10,22,49,3]]\n",
    "print(find_min(mesh)) # 3"
   ]
  },
  {
   "cell_type": "markdown",
   "metadata": {},
   "source": [
    "The time complexity of this algorithm is O(N^2), since each processor sends its value to P(0, 0) and P(0, 0) sends the minimum value back to all processors. This is optimal, as there is no way to find the minimum value faster than O(N^2)."
   ]
  },
  {
   "cell_type": "markdown",
   "metadata": {},
   "source": [
    "To calculate the efficiency and speedup of this algorithm, we would need to know more about the specific hardware and architecture of the N-mesh, as well as the time it takes for each processor to send and receive messages."
   ]
  },
  {
   "cell_type": "markdown",
   "metadata": {},
   "source": [
    "## Q3) Calculating the prefix sums in an N-mesh:"
   ]
  },
  {
   "cell_type": "markdown",
   "metadata": {},
   "source": [
    "### Algorithm :"
   ]
  },
  {
   "cell_type": "markdown",
   "metadata": {},
   "source": [
    "1. Each processor P(i, j) sends its value to P(i-1, j) and P(i, j-1).\n",
    "2. P(i-1, j) and P(i, j-1) add the received value to their own value and send the result back to P(i, j).\n",
    "3. P(i, j) adds the received values to its own value and stores the result as the prefix sum."
   ]
  },
  {
   "cell_type": "code",
   "execution_count": 3,
   "metadata": {
    "scrolled": true
   },
   "outputs": [
    {
     "name": "stdout",
     "output_type": "stream",
     "text": [
      "[[  1   3   6  11]\n",
      " [  5  11  18  31]\n",
      " [ 10  25  45  79]\n",
      " [ 11  38  87 169]]\n"
     ]
    }
   ],
   "source": [
    "from typing import List\n",
    "import numpy as np\n",
    "def compute_prefix_sums(mesh: List[List[int]]) -> List[List[int]]:\n",
    "    prefix_sums = [[0] * len(mesh[0]) for _ in range(len(mesh))]\n",
    "    for i in range(len(mesh)):\n",
    "        for j in range(len(mesh[0])):\n",
    "            # send value to neighbors\n",
    "            if i > 0:\n",
    "                mesh[i][j] += mesh[i-1][j]\n",
    "            if j > 0:\n",
    "                mesh[i][j] += mesh[i][j-1]\n",
    "\n",
    "            # receive values from neighbors and store as prefix sum\n",
    "            prefix_sums[i][j] = mesh[i][j]\n",
    "\n",
    "    return prefix_sums\n",
    "\n",
    "# driver code\n",
    "mesh = np.array([[1,2,3,5],[4,3,1,2],[5,4,2,3],[1,2,4,3]])\n",
    "compute_prefix_sums(mesh) # [[1, 3, 6, 11], [5, 11, 18, 31], [10, 25, 45, 79], [11, 38, 87, 169]]\n",
    "print(np.matrix(mesh))"
   ]
  },
  {
   "cell_type": "markdown",
   "metadata": {},
   "source": [
    "This code initializes a new N-mesh of the same size as the original N-mesh, with all values set to 0. It then iterates over the original N-mesh, adding the value from the top and left processors (if they exist) and the value from the original N-mesh to compute the prefix sum for each processor. The prefix sums are stored in the new N-mesh, which is returned at the end of the function."
   ]
  },
  {
   "cell_type": "markdown",
   "metadata": {},
   "source": [
    "The time complexity of this algorithm is O(N^2), since each processor sends messages to its neighbors and receives a message back, and there are N^2 processors in the N-mesh. This is optimal, as there is no way to calculate the prefix sums faster than O(N^2)."
   ]
  },
  {
   "cell_type": "markdown",
   "metadata": {},
   "source": [
    "To calculate the efficiency and speedup of this algorithm, we would need to know more about the specific hardware and architecture of the N-mesh, as well as the time it takes for each processor to send and receive messages."
   ]
  }
 ],
 "metadata": {
  "kernelspec": {
   "display_name": "Python 3",
   "language": "python",
   "name": "python3"
  },
  "language_info": {
   "codemirror_mode": {
    "name": "ipython",
    "version": 3
   },
   "file_extension": ".py",
   "mimetype": "text/x-python",
   "name": "python",
   "nbconvert_exporter": "python",
   "pygments_lexer": "ipython3",
   "version": "3.8.3"
  }
 },
 "nbformat": 4,
 "nbformat_minor": 4
}
