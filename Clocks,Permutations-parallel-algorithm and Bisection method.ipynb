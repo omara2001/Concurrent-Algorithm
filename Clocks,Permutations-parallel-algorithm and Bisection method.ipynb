{
 "cells": [
  {
   "cell_type": "markdown",
   "metadata": {},
   "source": [
    "#                                            \n",
    "                                   Clocks,Permutations-parallel-algorithm and Bisection method\n",
    "                                              "
   ]
  },
  {
   "cell_type": "markdown",
   "metadata": {},
   "source": [
    "### Problem 1:Clocks"
   ]
  },
  {
   "cell_type": "markdown",
   "metadata": {},
   "source": [
    "Algorithm for solving this problem using 3 processors:\n",
    "\n",
    "1. Read the input data from the user and store it in a 2D array of size 3x3.\n",
    "\n",
    "2. Divide the array into 3 subarrays of size 3x1 and assign each subarray to a different processor.\n",
    "\n",
    "3. Each processor will perform the following steps:\n",
    "\n",
    "   a. Check the current time on each clock in its subarray and determine the minimum number of moves required to set all the             dials to 12 o'clock.\n",
    "   \n",
    "   b. Add the required moves to a list.\n",
    "\n",
    "4. When all processors have completed their work, the main processor will gather the lists from all the processors and concatenate them into a single list.\n",
    "\n",
    "5. Sort the list in ascending order and write it to the output to the user."
   ]
  },
  {
   "cell_type": "code",
   "execution_count": 1,
   "metadata": {},
   "outputs": [],
   "source": [
    "def intailize_moves():\n",
    "    moves[0][0] = 1\n",
    "    moves[1][0] = 1\n",
    "    moves[3][0] = 1\n",
    "    moves[0][1] = 1\n",
    "    moves[1][1] = 1\n",
    "    moves[2][1] = 1\n",
    "    moves[4][1] = 1\n",
    "    moves[1][2] = 1\n",
    "    moves[2][2] = 1\n",
    "    moves[5][2] = 1\n",
    "    moves[0][3] = 1\n",
    "    moves[3][3] = 1\n",
    "    moves[4][3] = 1\n",
    "    moves[6][3] = 1\n",
    "    moves[0][4] = 1\n",
    "    moves[2][4] = 1\n",
    "    moves[4][4] = 1\n",
    "    moves[6][4] = 1\n",
    "    moves[8][4] = 1\n",
    "    moves[2][5] = 1\n",
    "    moves[4][5] = 1\n",
    "    moves[8][5] = 1\n",
    "    moves[3][6] = 1\n",
    "    moves[6][6] = 1\n",
    "    moves[7][6] = 1\n",
    "    moves[4][7] = 1\n",
    "    moves[6][7] = 1\n",
    "    moves[7][7] = 1\n",
    "    moves[8][7] = 1\n",
    "    moves[5][8] = 1\n",
    "    moves[7][8] = 1\n",
    "    moves[8][8] = 1\n",
    " \n",
    "scenarios = []"
   ]
  },
  {
   "cell_type": "code",
   "execution_count": 2,
   "metadata": {},
   "outputs": [],
   "source": [
    "def generate(len , scenario):\n",
    "  if len == 0:\n",
    "    scenarios.append(scenario)\n",
    "  else:\n",
    "    for i in ['0','1','2','3']:\n",
    "      generate(len-1 , scenario + i )"
   ]
  },
  {
   "cell_type": "code",
   "execution_count": 3,
   "metadata": {},
   "outputs": [],
   "source": [
    "clocks =[3, 3, 0, 2, 2, 2, 2, 1, 2]\n",
    "moves=[[0,0,0,0,0,0,0,0,0] , [0,0,0,0,0,0,0,0,0] , [0,0,0,0,0,0,0,0,0] , [0,0,0,0,0,0,0,0,0] , [0,0,0,0,0,0,0,0,0] , [0,0,0,0,0,0,0,0,0] , [0,0,0,0,0,0,0,0,0] , [0,0,0,0,0,0,0,0,0] , [0,0,0,0,0,0,0,0,0]]\n",
    "intailize_moves() "
   ]
  },
  {
   "cell_type": "code",
   "execution_count": 4,
   "metadata": {},
   "outputs": [],
   "source": [
    "generate(9,\"\")\n",
    "minimum =  3**9\n",
    "final_ans =\"\""
   ]
  },
  {
   "cell_type": "code",
   "execution_count": 5,
   "metadata": {},
   "outputs": [],
   "source": [
    "for scenario in scenarios:\n",
    "  found = True\n",
    "  new_clocks = [x for x in clocks]\n",
    "  for i in range(0,len(scenario)):\n",
    "    for j in range(0,9):\n",
    "      times = ord(scenario[i]) - ord('0')\n",
    "      new_clocks[j] =(new_clocks[j] + (times * moves[i][j])) %4 \n",
    "  for clock in new_clocks:\n",
    "    if clock != 0 :\n",
    "      found = False\n",
    "  if found == True:\n",
    "    sum = 0\n",
    "    for x in scenario:\n",
    "        sum += (ord(x) - ord('0')) \n",
    "    if sum < minimum:\n",
    "        minimum = sum      \n",
    "        final_ans = scenario"
   ]
  },
  {
   "cell_type": "code",
   "execution_count": 6,
   "metadata": {},
   "outputs": [
    {
     "name": "stdout",
     "output_type": "stream",
     "text": [
      "333333333 14\n"
     ]
    }
   ],
   "source": [
    "print(scenario , sum)"
   ]
  },
  {
   "cell_type": "code",
   "execution_count": 7,
   "metadata": {},
   "outputs": [
    {
     "name": "stdout",
     "output_type": "stream",
     "text": [
      "Minimum number of moves =  4 with using the sceanrio 000110011\n"
     ]
    }
   ],
   "source": [
    " print(\"Minimum number of moves = \",minimum,\"with using the sceanrio\",final_ans)"
   ]
  },
  {
   "cell_type": "code",
   "execution_count": 8,
   "metadata": {},
   "outputs": [
    {
     "name": "stdout",
     "output_type": "stream",
     "text": [
      "move 1 is used  0 times\n",
      "move 2 is used  0 times\n",
      "move 3 is used  0 times\n",
      "move 4 is used  1 times\n",
      "move 5 is used  1 times\n",
      "move 6 is used  0 times\n",
      "move 7 is used  0 times\n",
      "move 8 is used  1 times\n",
      "move 9 is used  1 times\n"
     ]
    }
   ],
   "source": [
    "for i in range(0,9):\n",
    "  print(\"move\" , i+1 , \"is used \" , final_ans[i] , \"times\")"
   ]
  },
  {
   "cell_type": "markdown",
   "metadata": {},
   "source": [
    "####  "
   ]
  },
  {
   "cell_type": "markdown",
   "metadata": {},
   "source": [
    "###    "
   ]
  },
  {
   "cell_type": "markdown",
   "metadata": {},
   "source": [
    "The complexity of this algorithm is O(n), where n is the number of clocks (9 in this case). The efficiency of the algorithm will depend on the relative speed of the processors and the overhead associated with parallel processing. The speedup of the algorithm will be determined by the ratio of the time taken by a single processor to the time taken by the 3 processors."
   ]
  },
  {
   "cell_type": "markdown",
   "metadata": {},
   "source": [
    "#### Time Complexity:  O(n)\n",
    "#### Efficiency: O(n)\n",
    "#### Speed up:O(n^2)\n",
    "#### RunTime(sec) : 7.805\n",
    "#### Memory(MB) : 20.390625"
   ]
  },
  {
   "cell_type": "markdown",
   "metadata": {},
   "source": [
    "### Problem 2: Permutations parallel algorithm"
   ]
  },
  {
   "cell_type": "markdown",
   "metadata": {},
   "source": [
    "#### Algorithm of Parallel Permutation and Sorting \n",
    "\n",
    "1. Read the array of numbers and the queries from the user.\n",
    "\n",
    "2. For each query, generate all permutations of the two segments using a recursive function.\n",
    "\n",
    "3. Check if any of the permutations of the first segment is equal to the second segment. If a match is found, return \"Segments are premutations\".\n",
    "\n",
    "4. If no match is found, return \"Segments are Not Premutations\".\n"
   ]
  },
  {
   "cell_type": "markdown",
   "metadata": {},
   "source": [
    "#### To generate all permutations of a given two number n C r, we can use the following recursive function:"
   ]
  },
  {
   "cell_type": "code",
   "execution_count": 2,
   "metadata": {},
   "outputs": [],
   "source": [
    "def generate_permutations(n, r, prefix, result):\n",
    "  if r == 0:\n",
    "    result.append(prefix)\n",
    "    return\n",
    "  \n",
    "  for i in range(n):\n",
    "    generate_permutations(n, r-1, prefix + [i], result)"
   ]
  },
  {
   "cell_type": "code",
   "execution_count": 4,
   "metadata": {},
   "outputs": [
    {
     "name": "stdout",
     "output_type": "stream",
     "text": [
      "10 3\n",
      "1 3 4 5\n",
      "5 6 8 7\n",
      "Segments are premutations\n",
      "6 7 8 9\n",
      "Segments are premutations\n",
      "1 8 7 9\n",
      "Segments are Not Premutations\n"
     ]
    }
   ],
   "source": [
    "n,q = map(int, input().split())\n",
    " \n",
    "arr = list(map(int, input().split()))\n",
    " \n",
    "for i in range(0,q): \n",
    "  start1 , end1 , start2 , end2 = map(int, input().split())\n",
    "  list1 = [x for x in arr[start1-1:end1]]\n",
    "  list2 = [x for x in arr[start2-1:end2]]\n",
    "  list1.sort()\n",
    "  list2.sort()\n",
    "  if list1==list2:\n",
    "    print(\"Segments are premutations\")\n",
    "  else :\n",
    "    print(\"Segments are Not Premutations\")"
   ]
  },
  {
   "cell_type": "markdown",
   "metadata": {},
   "source": [
    "The complexity of this algorithm is O(n * r!), where n is the size of the array and r is the size of the segments. The efficiency of the algorithm will depend on the relative speed of the processors and the overhead associated with parallel processing. The speedup of the algorithm will be determined by the ratio of the time taken by a single processor to the time taken by the multiple processors."
   ]
  },
  {
   "cell_type": "markdown",
   "metadata": {},
   "source": [
    "#### Time Complexity: O(N * N!) Note that there are N! permutations and it requires O(N) time to print a permutation.\n",
    "#### RunTime(sec) : 9.007\n",
    "#### Memory(MB) : 7.41796875\n",
    "#### Efficiency: O(n!)\n",
    "#### Speed up:O(n)"
   ]
  },
  {
   "cell_type": "markdown",
   "metadata": {},
   "source": [
    "### Problem 3: Bisection method"
   ]
  },
  {
   "cell_type": "markdown",
   "metadata": {},
   "source": [
    "##### Algorithm for solving this problem using N processors:"
   ]
  },
  {
   "cell_type": "markdown",
   "metadata": {},
   "source": [
    "1. Read the function f, endpoint values a and b, tolerance TOL, and maximum iterations NMAX from the user.\n",
    "\n",
    "2. Divide the interval [a, b] into N subintervals of equal size.\n",
    "\n",
    "3. Create N processes, one for each subinterval.\n",
    "\n",
    "4. Each process will apply the bisection method to its respective subinterval using the function f, tolerance TOL, and maximum iterations NMAX.\n",
    "\n",
    "5. If a solution is found by any of the processes, it will be output and the program will terminate.\n",
    "\n",
    "6. If no solution is found, the program will repeat the above steps until the maximum number of iterations is reached or a solution is found."
   ]
  },
  {
   "cell_type": "code",
   "execution_count": 11,
   "metadata": {},
   "outputs": [
    {
     "name": "stdout",
     "output_type": "stream",
     "text": [
      "-1 0.8\n"
     ]
    }
   ],
   "source": [
    "def f(x):\n",
    "  return x**2 + x - 1\n",
    " \n",
    "a , b = map(float,input().split(\" \"))\n",
    "if f(a) * f(b) > 0:\n",
    "  print(\"root wont be found in this interval\")\n",
    "  exit(0)"
   ]
  },
  {
   "cell_type": "code",
   "execution_count": 12,
   "metadata": {},
   "outputs": [],
   "source": [
    "if f(a) > 0:\n",
    " a,b = b,a \n",
    "processors = 10 \n",
    "found = False"
   ]
  },
  {
   "cell_type": "code",
   "execution_count": 14,
   "metadata": {},
   "outputs": [
    {
     "name": "stdout",
     "output_type": "stream",
     "text": [
      "Answer:  0.6180339887498949\n"
     ]
    }
   ],
   "source": [
    "while (found == False):\n",
    "  for i in range (1,processors+1):\n",
    "    new_a = i * a/processors \n",
    "    new_b = i * b/processors\n",
    "    if f(new_a) * f(new_b) <0:\n",
    "      a = new_a \n",
    "      b= new_b \n",
    "    else :\n",
    "      continue \n",
    "    c = (a+b)/2 \n",
    "    if f(c) < 0:\n",
    "      a=c \n",
    "    elif f(c) > 0: \n",
    "      b=c\n",
    "    elif (abs(f(c)) <=1e-18 ) :\n",
    "      print(\"Answer: \", c)\n",
    "      found = True\n",
    "      break"
   ]
  },
  {
   "cell_type": "markdown",
   "metadata": {},
   "source": [
    "The complexity of the parallel algorithm is also log2((b-a)/TOL), as the bisection method is applied to each subinterval independently.\n",
    "\n",
    "The speed up of the parallel algorithm is equal to N, the number of processors used.\n",
    "\n",
    "The efficiency of the parallel algorithm is equal to the speed up divided by the number of processors, which is equal to 1 in this case."
   ]
  },
  {
   "cell_type": "markdown",
   "metadata": {},
   "source": [
    "#### Time Complexity:  O(log2((b-a)/TOL))\n",
    "#### Efficiency: O(n logn)\n",
    "#### Speed up:O(n)\n",
    "#### RunTime(sec) : 12.7\n",
    "#### Memory(MB) : 25.390625"
   ]
  }
 ],
 "metadata": {
  "kernelspec": {
   "display_name": "Python 3",
   "language": "python",
   "name": "python3"
  },
  "language_info": {
   "codemirror_mode": {
    "name": "ipython",
    "version": 3
   },
   "file_extension": ".py",
   "mimetype": "text/x-python",
   "name": "python",
   "nbconvert_exporter": "python",
   "pygments_lexer": "ipython3",
   "version": "3.8.3"
  }
 },
 "nbformat": 4,
 "nbformat_minor": 4
}
